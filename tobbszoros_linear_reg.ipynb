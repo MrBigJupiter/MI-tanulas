{
 "cells": [
  {
   "cell_type": "markdown",
   "id": "7b0c580c",
   "metadata": {},
   "source": [
    "# Importáljuk a fontos packageket"
   ]
  },
  {
   "cell_type": "code",
   "execution_count": 1,
   "id": "40014d7b",
   "metadata": {},
   "outputs": [],
   "source": [
    "import pandas as pd\n",
    "from sklearn import linear_model"
   ]
  },
  {
   "cell_type": "markdown",
   "id": "b5396e7a",
   "metadata": {},
   "source": [
    "# Belenézünk az adhalmazunkba - adatok/lakas.cs"
   ]
  },
  {
   "cell_type": "code",
   "execution_count": 2,
   "id": "c34df54d",
   "metadata": {},
   "outputs": [
    {
     "data": {
      "text/html": [
       "<div>\n",
       "<style scoped>\n",
       "    .dataframe tbody tr th:only-of-type {\n",
       "        vertical-align: middle;\n",
       "    }\n",
       "\n",
       "    .dataframe tbody tr th {\n",
       "        vertical-align: top;\n",
       "    }\n",
       "\n",
       "    .dataframe thead th {\n",
       "        text-align: right;\n",
       "    }\n",
       "</style>\n",
       "<table border=\"1\" class=\"dataframe\">\n",
       "  <thead>\n",
       "    <tr style=\"text-align: right;\">\n",
       "      <th></th>\n",
       "      <th>Budai</th>\n",
       "      <th>Kerulet</th>\n",
       "      <th>Panel</th>\n",
       "      <th>Szoba</th>\n",
       "      <th>m2</th>\n",
       "      <th>Ar</th>\n",
       "    </tr>\n",
       "  </thead>\n",
       "  <tbody>\n",
       "    <tr>\n",
       "      <th>0</th>\n",
       "      <td>0</td>\n",
       "      <td>3</td>\n",
       "      <td>0</td>\n",
       "      <td>2</td>\n",
       "      <td>74</td>\n",
       "      <td>120</td>\n",
       "    </tr>\n",
       "    <tr>\n",
       "      <th>1</th>\n",
       "      <td>0</td>\n",
       "      <td>9</td>\n",
       "      <td>0</td>\n",
       "      <td>2</td>\n",
       "      <td>58</td>\n",
       "      <td>146</td>\n",
       "    </tr>\n",
       "    <tr>\n",
       "      <th>2</th>\n",
       "      <td>0</td>\n",
       "      <td>7</td>\n",
       "      <td>0</td>\n",
       "      <td>1</td>\n",
       "      <td>33</td>\n",
       "      <td>75</td>\n",
       "    </tr>\n",
       "    <tr>\n",
       "      <th>3</th>\n",
       "      <td>0</td>\n",
       "      <td>2</td>\n",
       "      <td>1</td>\n",
       "      <td>1</td>\n",
       "      <td>38</td>\n",
       "      <td>49</td>\n",
       "    </tr>\n",
       "    <tr>\n",
       "      <th>4</th>\n",
       "      <td>0</td>\n",
       "      <td>7</td>\n",
       "      <td>0</td>\n",
       "      <td>4</td>\n",
       "      <td>97</td>\n",
       "      <td>299</td>\n",
       "    </tr>\n",
       "  </tbody>\n",
       "</table>\n",
       "</div>"
      ],
      "text/plain": [
       "   Budai  Kerulet  Panel  Szoba  m2   Ar\n",
       "0      0        3      0      2  74  120\n",
       "1      0        9      0      2  58  146\n",
       "2      0        7      0      1  33   75\n",
       "3      0        2      1      1  38   49\n",
       "4      0        7      0      4  97  299"
      ]
     },
     "execution_count": 2,
     "metadata": {},
     "output_type": "execute_result"
    }
   ],
   "source": [
    "df = pd.read_csv(\"adatok/lakasar.csv\")\n",
    "df.head()"
   ]
  },
  {
   "cell_type": "markdown",
   "id": "58398641",
   "metadata": {},
   "source": [
    "## 2. Többváltozós lineáris regresszió\n",
    "\n",
    "**Ismertető**  \n",
    "Több független változó (\\(x_1, x_2, \\dots, x_p\\)) kollektíven magyarázza \\(y\\)-t, mindegyik **lineárisan** szerepel az egyenletben. Akkor hasznos, ha a jelenség több tényezőtől függ, és mindegyikről feltételezhető (vagy a transzformált változóról feltételezhető) lineáris hatás.\n",
    "\n",
    "**Szóbeli példa**  \n",
    "Egy ingatlanos a **lakás ára** (\\(y\\)) előrejelzéséhez egyszerre veszi figyelembe az **alapterületet** (\\(x_1\\)), a **szobák számát** (\\(x_2\\)) és az **épület korát** (\\(x_3\\)). Mindhárom tényező külön-külön, lineáris hozzájárulást ad a végső árhoz."
   ]
  },
  {
   "cell_type": "markdown",
   "id": "a121ce3f",
   "metadata": {},
   "source": [
    "Beállítjuk a független és a függő változókat (X, Y), és megtanítjuk az Ár predikciójára a csv adatokból\n",
    "Létrehozzuk a modellt --> regr = linear_model.LinearRegression()"
   ]
  },
  {
   "cell_type": "code",
   "execution_count": 4,
   "id": "8fa7ec57",
   "metadata": {},
   "outputs": [
    {
     "name": "stdout",
     "output_type": "stream",
     "text": [
      "A lakás várható ára:, 179.19769903339542 Ft\n"
     ]
    },
    {
     "name": "stderr",
     "output_type": "stream",
     "text": [
      "c:\\Users\\mmarc\\Development\\tensorflow_prac\\.venv\\Lib\\site-packages\\sklearn\\utils\\validation.py:2739: UserWarning: X does not have valid feature names, but LinearRegression was fitted with feature names\n",
      "  warnings.warn(\n",
      "C:\\Users\\mmarc\\AppData\\Local\\Temp\\ipykernel_15296\\2452885075.py:9: DeprecationWarning: Conversion of an array with ndim > 0 to a scalar is deprecated, and will error in future. Ensure you extract a single element from your array before performing this operation. (Deprecated NumPy 1.25.)\n",
      "  varhato_ar = float(varhato_ar)\n"
     ]
    }
   ],
   "source": [
    "#input adatok - Független változó\n",
    "X = df[['Budai','Kerulet','Panel','Szoba','m2']]\n",
    "#output - Függő változó\n",
    "y = df['Ar']\n",
    "regr = linear_model.LinearRegression() # Létrehozzuka  modellt\n",
    "regr.fit(X, y)\n",
    "#Ár predikció a többi adat függvényében: \n",
    "varhato_ar = regr.predict([[1, 1, 0, 2, 45]]) \n",
    "varhato_ar = float(varhato_ar)\n",
    "print(f\"A lakás várható ára:, {varhato_ar} Ft\") "
   ]
  },
  {
   "cell_type": "code",
   "execution_count": null,
   "id": "29a3384e",
   "metadata": {},
   "outputs": [],
   "source": []
  }
 ],
 "metadata": {
  "kernelspec": {
   "display_name": ".venv",
   "language": "python",
   "name": "python3"
  },
  "language_info": {
   "codemirror_mode": {
    "name": "ipython",
    "version": 3
   },
   "file_extension": ".py",
   "mimetype": "text/x-python",
   "name": "python",
   "nbconvert_exporter": "python",
   "pygments_lexer": "ipython3",
   "version": "3.12.3"
  }
 },
 "nbformat": 4,
 "nbformat_minor": 5
}
